{
 "cells": [
  {
   "cell_type": "code",
   "execution_count": 22,
   "metadata": {},
   "outputs": [
    {
     "name": "stdout",
     "output_type": "stream",
     "text": [
      "Commencing initial setup\n",
      "Income\n",
      "Total Income: $2000.00\n",
      "Expanses\n",
      "Total Expanses: $1610.00\n",
      "Investment\n",
      "Total Investment: $50000.00\n",
      "========================================\n",
      "\n",
      "Total Income:\t$2000.00\n",
      "Total Expanses:\t$1610.00\n",
      "Total Investment:\t$50000.00\n",
      "Monthly Cash Flow:\t$3.9e+02\n",
      "Annual Cash Flow:\t$4.7e+03\n",
      "ROI:\t$9.36\n",
      "\n"
     ]
    }
   ],
   "source": [
    "class RoiCalculator:\n",
    "    def __init__(self):\n",
    "        self.income = {}\n",
    "        self.total_income = 0\n",
    "        self.expanses = {}\n",
    "        self.total_expanses = 0\n",
    "        self.investment = {}\n",
    "        self.total_investment = 0\n",
    "        self.cash_flow = 0\n",
    "        self.cash_flow_annual = 0\n",
    "        self.roi = \"N\\A\"\n",
    "\n",
    "    def _get_num_input(self,messene):\n",
    "        try:\n",
    "            return float(input(messene))\n",
    "        except:\n",
    "            print(f\"Invalid Input. Must be int or float\")\n",
    "            self._get_num_input(messene)\n",
    "\n",
    "\n",
    "    def default_setup(self):\n",
    "        print(\"Commencing initial setup\")\n",
    "\n",
    "        print(\"Income\")\n",
    "        for s in (\"Rental Income\", \"Laundry\", \"Storage\", \"Misc\"):\n",
    "            self.income[s] = self._get_num_input(f\"{s}: \")\n",
    "        #TODO test to see what will happen to sum and :.2f if all the values are int \n",
    "        self.total_income = sum(self.income.values())\n",
    "        print(f\"Total Income: ${self.total_income:.2f}\")\n",
    "\n",
    "        print(\"Expanses\")\n",
    "        for s in (\"Tax\", \"Insurance\", \"Utilities\", \"HOA\", \"Loan/Snow\", \"Vacancy\", \"Repairs\", \"CapEx\", \"Property Management\", \"Mortgage\"):\n",
    "            self.expanses[s] = self._get_num_input(f\"{s}: \")\n",
    "        self.total_expanses = sum(self.expanses.values())\n",
    "        print(f\"Total Expanses: ${self.total_expanses:.2f}\")\n",
    "\n",
    "        print(\"Investment\")\n",
    "        for s in (\"Down Payment\", \"Closing Cost\", \"Rehab Budget\", \"Misc Other\"):\n",
    "            self.investment[s] = self._get_num_input(f\"{s}: \")\n",
    "        self.total_investment = sum(self.investment.values())\n",
    "        print(f\"Total Investment: ${self.total_investment:.2f}\")\n",
    "\n",
    "        self.calculate_internal_values()\n",
    "\n",
    "    def calculate_internal_values(self):\n",
    "        self.cash_flow = self.total_income - self.total_expanses\n",
    "        self.cash_flow_annual = self.cash_flow * 12\n",
    "        self.roi = self.cash_flow_annual / self.total_investment * 100\n",
    "\n",
    "    def print_result(self):\n",
    "        print(\"=\"*40)\n",
    "        print(\n",
    "f\"\"\"\n",
    "Total Income:\\t${self.total_income:.2f}\n",
    "Total Expanses:\\t${self.total_expanses:.2f}\n",
    "Total Investment:\\t${self.total_investment:.2f}\n",
    "Monthly Cash Flow:\\t${self.cash_flow:.2f}\n",
    "Annual Cash Flow:\\t${self.cash_flow_annual:.2f}\n",
    "ROI:\\t{self.roi} %\n",
    "\"\"\"\n",
    "        )\n",
    "\n",
    "        \n",
    "def run_roi_calculator():\n",
    "    my_calc = RoiCalculator()\n",
    "    my_calc.default_setup()\n",
    "    my_calc.print_result()\n",
    "\n",
    "run_roi_calculator()"
   ]
  }
 ],
 "metadata": {
  "kernelspec": {
   "display_name": "Python 3",
   "language": "python",
   "name": "python3"
  },
  "language_info": {
   "codemirror_mode": {
    "name": "ipython",
    "version": 3
   },
   "file_extension": ".py",
   "mimetype": "text/x-python",
   "name": "python",
   "nbconvert_exporter": "python",
   "pygments_lexer": "ipython3",
   "version": "3.10.8"
  },
  "orig_nbformat": 4,
  "vscode": {
   "interpreter": {
    "hash": "26de051ba29f2982a8de78e945f0abaf191376122a1563185a90213a26c5da77"
   }
  }
 },
 "nbformat": 4,
 "nbformat_minor": 2
}
